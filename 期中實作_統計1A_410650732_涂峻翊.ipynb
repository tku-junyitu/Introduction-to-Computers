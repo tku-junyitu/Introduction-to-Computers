{
  "nbformat": 4,
  "nbformat_minor": 0,
  "metadata": {
    "colab": {
      "name": "期中實作 統計1A 410650732 涂峻翊",
      "provenance": [],
      "authorship_tag": "ABX9TyNdhabd+myheuRR/elq/iUy",
      "include_colab_link": true
    },
    "kernelspec": {
      "name": "python3",
      "display_name": "Python 3"
    },
    "language_info": {
      "name": "python"
    }
  },
  "cells": [
    {
      "cell_type": "markdown",
      "metadata": {
        "id": "view-in-github",
        "colab_type": "text"
      },
      "source": [
        "<a href=\"https://colab.research.google.com/github/tku-junyitu/Introduction-to-Computers/blob/main/%E6%9C%9F%E4%B8%AD%E5%AF%A6%E4%BD%9C_%E7%B5%B1%E8%A8%881A_410650732_%E6%B6%82%E5%B3%BB%E7%BF%8A.ipynb\" target=\"_parent\"><img src=\"https://colab.research.google.com/assets/colab-badge.svg\" alt=\"Open In Colab\"/></a>"
      ]
    },
    {
      "cell_type": "code",
      "execution_count": 45,
      "metadata": {
        "colab": {
          "base_uri": "https://localhost:8080/"
        },
        "id": "pQISm-n1ddkr",
        "outputId": "50ddf756-46a8-40b0-b7fb-8c69985231bf"
      },
      "outputs": [
        {
          "output_type": "stream",
          "name": "stdout",
          "text": [
            "班級:統計1A\n",
            "姓名:涂峻翊\n",
            "學號:410650732\n",
            "統計1A\n",
            "涂峻翊\n",
            "410650732\n"
          ]
        }
      ],
      "source": [
        "test1=(input('班級:'))\n",
        "test2=(input('姓名:'))\n",
        "test3=(input('學號:'))\n",
        "print(test1,test2,test3,sep='\\n')"
      ]
    },
    {
      "cell_type": "code",
      "source": [
        "month=int(input('請輸入月份:'))\n",
        "day=int(input('請輸入日期:'))\n",
        "week=(input('請輸入今天是星期幾:'))\n",
        "print('今天是:',month,'月',',',day,'日',',','星期',week,sep='')"
      ],
      "metadata": {
        "colab": {
          "base_uri": "https://localhost:8080/"
        },
        "id": "3yUfNp_2fCs6",
        "outputId": "72ff484d-a9eb-46be-bd70-5f5de5366c85"
      },
      "execution_count": 15,
      "outputs": [
        {
          "output_type": "stream",
          "name": "stdout",
          "text": [
            "請輸入月份:1\n",
            "請輸入日期:1\n",
            "請輸入今天是星期幾:二\n",
            "今天是:1月,1日,星期二\n"
          ]
        }
      ]
    },
    {
      "cell_type": "code",
      "source": [
        "上長=int(input('請輸入梯形上底長度:'))\n",
        "下長=int(input('請輸入梯形下底長度:'))\n",
        "高=int(input('請輸入梯形高度:'))\n",
        "面積=(上長+下長)*高/2\n",
        "print('梯形上底長度為:',上長,'公分,','梯形下底長度為:',下長,'公分,','梯形高度為:',高,'公分,','高梯形面積為:%0.2f' %(面積),sep='',end='平方公分')"
      ],
      "metadata": {
        "colab": {
          "base_uri": "https://localhost:8080/"
        },
        "id": "xmuGZ08ZiWXk",
        "outputId": "7c4bf770-7bdf-4673-debe-8b296ae46f3e"
      },
      "execution_count": 42,
      "outputs": [
        {
          "output_type": "stream",
          "name": "stdout",
          "text": [
            "請輸入梯形上底長度:4\n",
            "請輸入梯形下底長度:5\n",
            "請輸入梯形高度:4\n",
            "梯形上底長度為:4公分,梯形下底長度為:5公分,梯形高度為:4公分,高梯形面積為:18.00平方公分"
          ]
        }
      ]
    },
    {
      "cell_type": "code",
      "source": [
        "身高=float(input('請輸入您的身高(cm):'))\n",
        "體重=float(input('請輸入您的體重(kg):'))\n",
        "BMI=體重/(身高/100)**2\n",
        "print('身高%d 公分,體重%d 公斤,BMI值為 %.3f' %(身高,體重,BMI))"
      ],
      "metadata": {
        "colab": {
          "base_uri": "https://localhost:8080/"
        },
        "id": "Yv4HKi_mjmcW",
        "outputId": "0b938b69-a5cf-4a9b-e58b-754e7965d612"
      },
      "execution_count": 25,
      "outputs": [
        {
          "output_type": "stream",
          "name": "stdout",
          "text": [
            "請輸入您的身高(cm):180\n",
            "請輸入您的體重(kg):60\n",
            "身高180 公分,體重60 公斤,BMI值為 18.519\n"
          ]
        }
      ]
    },
    {
      "cell_type": "code",
      "source": [
        "num1=int(input('請輸入正整數:'))\n",
        "if(num1%2)==0:\n",
        "    print(num1,'是偶數!')\n",
        "num2=int(input('請輸入正整數'))\n",
        "if(num2%2)==1:\n",
        "    print(num2,'是奇數!')"
      ],
      "metadata": {
        "colab": {
          "base_uri": "https://localhost:8080/"
        },
        "id": "J2qv-7DMnnwt",
        "outputId": "75c4959a-8939-4c0f-cf73-2c33d394fdba"
      },
      "execution_count": 31,
      "outputs": [
        {
          "output_type": "stream",
          "name": "stdout",
          "text": [
            "請輸入正整數:50\n",
            "50 是偶數!\n",
            "請輸入正整數51\n",
            "51 是奇數!\n"
          ]
        }
      ]
    },
    {
      "cell_type": "code",
      "source": [
        "體溫=int(input('請輸入你的體溫'))\n",
        "if(體溫>37.5or體溫<36)\n",
        "    print('體溫異常,請重新測量!')\n",
        "else:\n",
        "    print('體溫正常,請進校園!')"
      ],
      "metadata": {
        "colab": {
          "base_uri": "https://localhost:8080/",
          "height": 133
        },
        "id": "VBC8W_Rwo0rU",
        "outputId": "08f65cdc-a456-4289-d31f-cd22e4728141"
      },
      "execution_count": 47,
      "outputs": [
        {
          "output_type": "error",
          "ename": "SyntaxError",
          "evalue": "ignored",
          "traceback": [
            "\u001b[0;36m  File \u001b[0;32m\"<ipython-input-47-d47b4c6f6631>\"\u001b[0;36m, line \u001b[0;32m2\u001b[0m\n\u001b[0;31m    if(體溫>37.5or體溫<36)\u001b[0m\n\u001b[0m                 ^\u001b[0m\n\u001b[0;31mSyntaxError\u001b[0m\u001b[0;31m:\u001b[0m invalid syntax\n"
          ]
        }
      ]
    },
    {
      "cell_type": "code",
      "source": [
        ""
      ],
      "metadata": {
        "id": "ypULfC-zqzGo"
      },
      "execution_count": 40,
      "outputs": []
    }
  ]
}