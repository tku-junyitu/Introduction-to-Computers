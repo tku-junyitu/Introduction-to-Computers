{
  "nbformat": 4,
  "nbformat_minor": 0,
  "metadata": {
    "colab": {
      "name": "0511.ipynb",
      "provenance": [],
      "authorship_tag": "ABX9TyM+eVJWGGatw+e8BYSjrnc9",
      "include_colab_link": true
    },
    "kernelspec": {
      "name": "python3",
      "display_name": "Python 3"
    },
    "language_info": {
      "name": "python"
    }
  },
  "cells": [
    {
      "cell_type": "markdown",
      "metadata": {
        "id": "view-in-github",
        "colab_type": "text"
      },
      "source": [
        "<a href=\"https://colab.research.google.com/github/tku-junyitu/Introduction-to-Computers/blob/main/0511.ipynb\" target=\"_parent\"><img src=\"https://colab.research.google.com/assets/colab-badge.svg\" alt=\"Open In Colab\"/></a>"
      ]
    },
    {
      "cell_type": "code",
      "execution_count": 1,
      "metadata": {
        "colab": {
          "base_uri": "https://localhost:8080/"
        },
        "id": "xTL1Ljh9gwyn",
        "outputId": "25f6425b-d8e0-4b92-b90a-f21abf9473d1"
      },
      "outputs": [
        {
          "output_type": "stream",
          "name": "stdout",
          "text": [
            "test\n"
          ]
        }
      ],
      "source": [
        "print(\"test\")"
      ]
    },
    {
      "cell_type": "code",
      "source": [
        "temp = float(input('請輸入你的體溫'))\n",
        "if temp>=37.5:\n",
        "      print('體溫過高!')\n",
        "elif temp>=37 and temp<=37.4:\n",
        "    print('體溫略高!')\n",
        "elif temp>=36.9 and temp<=34:\n",
        "    print('體溫正常!')\n",
        "else:\n",
        "    print('體溫異常,請重新測量!')"
      ],
      "metadata": {
        "colab": {
          "base_uri": "https://localhost:8080/"
        },
        "id": "bnZ2K84dg-S4",
        "outputId": "aa9b7aab-bd2a-4d48-a8be-2090cad2eb4f"
      },
      "execution_count": 3,
      "outputs": [
        {
          "output_type": "stream",
          "name": "stdout",
          "text": [
            "請輸入你的體溫33\n",
            "體溫異常,請重新測量!\n"
          ]
        }
      ]
    },
    {
      "cell_type": "code",
      "source": [
        "money = int(input('請輸入購物金額:'))\n",
        "if money >= 10000:\n",
        "    if money >= 100000:\n",
        "      print('八折',money*0.8,end='元\\n')\n",
        "    elif money >= 50000:\n",
        "      print('八五折',money*0.85,end='元\\n')\n",
        "    elif money >= 30000:\n",
        "      print('九折',money*0.9,end='元\\n')\n",
        "    else:\n",
        "      print('九五折',money*0.95,end='元\\n')\n",
        "else:\n",
        "    print('沒打折',money,end='元\\n')"
      ],
      "metadata": {
        "colab": {
          "base_uri": "https://localhost:8080/"
        },
        "id": "df8SGnekjOfq",
        "outputId": "bfb23e03-48b7-44c2-896c-1ece014fcd70"
      },
      "execution_count": 13,
      "outputs": [
        {
          "output_type": "stream",
          "name": "stdout",
          "text": [
            "請輸入購物金額:100000\n",
            "八折 80000.0元\n"
          ]
        }
      ]
    },
    {
      "cell_type": "code",
      "source": [
        "money = int(input('請輸入購物金額:'))\n",
        "if money >= 10000:\n",
        "    if money >= 100000:\n",
        "      print('八折',money*0.8,end='元\\n')\n",
        "    elif money >= 50000:\n",
        "      print('八五折',money*0.85,end='元\\n')\n",
        "    elif money >= 30000:\n",
        "      print('九折',money*0.9,end='元\\n')\n",
        "    else:\n",
        "      print('九五折',money*0.95,end='元\\n')\n",
        "else:\n",
        "    print('沒打折',money,end='元\\n')"
      ],
      "metadata": {
        "colab": {
          "base_uri": "https://localhost:8080/"
        },
        "id": "aOQvGobZrJWq",
        "outputId": "c2a3e5fb-544e-4044-be02-5067446a236c"
      },
      "execution_count": 14,
      "outputs": [
        {
          "output_type": "stream",
          "name": "stdout",
          "text": [
            "請輸入購物金額:100\n",
            "沒打折 100元\n"
          ]
        }
      ]
    },
    {
      "cell_type": "code",
      "source": [
        "month = int(input('請輸入現在月份:'))\n",
        "if(month <= 12 and month >=1):\n",
        "    if(month >= 3 and month <= 5):\n",
        "      print(month,'月是春天!')\n",
        "    elif(month >= 6 and month <= 8):\n",
        "      print(month,'月是夏天!')\n",
        "    elif(month >= 9 and month <= 11):\n",
        "      print(month,'月是秋天!')\n",
        "    else:\n",
        "      print(month,'月是冬天!')\n",
        "else:\n",
        "    print('月份不再範圍內!')"
      ],
      "metadata": {
        "colab": {
          "base_uri": "https://localhost:8080/"
        },
        "id": "-i_RSlXylXeu",
        "outputId": "013ea53f-0a22-4397-c0a6-2f326c871256"
      },
      "execution_count": 16,
      "outputs": [
        {
          "output_type": "stream",
          "name": "stdout",
          "text": [
            "請輸入現在月份:1\n",
            "1 月是冬天!\n"
          ]
        }
      ]
    },
    {
      "cell_type": "code",
      "source": [
        "score = int(input('請輸入你的成績:'))\n",
        "if score >= 90:\n",
        "    print('A')\n",
        "elif score >= 80:\n",
        "    print('B')\n",
        "elif score >= 70:\n",
        "    print('C')\n",
        "else:\n",
        "    print('D')"
      ],
      "metadata": {
        "colab": {
          "base_uri": "https://localhost:8080/"
        },
        "id": "4-KV5DhTvpBL",
        "outputId": "e6400010-ee1c-41f1-cf0f-4934d2329373"
      },
      "execution_count": 23,
      "outputs": [
        {
          "output_type": "stream",
          "name": "stdout",
          "text": [
            "請輸入你的成績:90\n",
            "A\n"
          ]
        }
      ]
    },
    {
      "cell_type": "code",
      "source": [
        "score = int(input('請輸入你的成績:'))\n",
        "if score >= 90:\n",
        "    print('A')\n",
        "elif score >= 80:\n",
        "    print('B')\n",
        "elif score >= 70:\n",
        "    print('C')\n",
        "else:\n",
        "    print('D')"
      ],
      "metadata": {
        "colab": {
          "base_uri": "https://localhost:8080/"
        },
        "id": "L5rhjM72y0zX",
        "outputId": "36811e42-bce1-4a2c-8062-211bce39c41d"
      },
      "execution_count": 22,
      "outputs": [
        {
          "output_type": "stream",
          "name": "stdout",
          "text": [
            "請輸入你的成績:80\n",
            "B\n"
          ]
        }
      ]
    },
    {
      "cell_type": "code",
      "source": [
        "score = int(input('請輸入你的成績:'))\n",
        "if score >= 90:\n",
        "    print('A')\n",
        "elif score >= 80:\n",
        "    print('B')\n",
        "elif score >= 70:\n",
        "    print('C')\n",
        "else:\n",
        "    print('D')"
      ],
      "metadata": {
        "colab": {
          "base_uri": "https://localhost:8080/"
        },
        "id": "Z2EuX0vKy3kf",
        "outputId": "61cb0b4c-9898-432a-8196-e3fc82320276"
      },
      "execution_count": 21,
      "outputs": [
        {
          "output_type": "stream",
          "name": "stdout",
          "text": [
            "請輸入你的成績:50\n",
            "D\n"
          ]
        }
      ]
    },
    {
      "cell_type": "code",
      "source": [
        "income = float(input('請輸入今年收入淨額:'))\n",
        "if income >= 300000:\n",
        "  if income >= 2000000:\n",
        "    print('付稅金額:',income*0.3,end='元\\n')\n",
        "  elif income >= 1000000:\n",
        "    print('付稅金額:',income*0.21,end='元\\n')\n",
        "  elif income >= 600000:\n",
        "    print('付稅金額:',income*0.13,end='元\\n')\n",
        "  else:\n",
        "    print('付稅金額:',income*0.06,end='元\\n')\n",
        "else:\n",
        "    print('付稅金額:',0,end='元\\n')"
      ],
      "metadata": {
        "colab": {
          "base_uri": "https://localhost:8080/"
        },
        "id": "vuN0ZJhyy5ca",
        "outputId": "795a670a-0bf5-43cb-880b-c298c404ca94"
      },
      "execution_count": 29,
      "outputs": [
        {
          "output_type": "stream",
          "name": "stdout",
          "text": [
            "請輸入今年收入淨額:10000\n",
            "付稅金額: 0元\n"
          ]
        }
      ]
    },
    {
      "cell_type": "code",
      "source": [
        "income = float(input('請輸入今年收入淨額:'))\n",
        "if income >= 300000:\n",
        "  if income >= 2000000:\n",
        "    print('付稅金額:',income*0.3,end='元\\n')\n",
        "  elif income >= 1000000:\n",
        "    print('付稅金額:',income*0.21,end='元\\n')\n",
        "  elif income >= 600000:\n",
        "    print('付稅金額:',income*0.13,end='元\\n')\n",
        "  else:\n",
        "    print('付稅金額:',income*0.06,end='元\\n')\n",
        "else:\n",
        "    print('付稅金額:',0,end='元\\n')"
      ],
      "metadata": {
        "colab": {
          "base_uri": "https://localhost:8080/"
        },
        "id": "6sYI_WKB0Uyq",
        "outputId": "34dd8919-3742-4216-99c8-a80fd2ccf971"
      },
      "execution_count": 28,
      "outputs": [
        {
          "output_type": "stream",
          "name": "stdout",
          "text": [
            "請輸入今年收入淨額:2000000\n",
            "付稅金額: 600000.0元\n"
          ]
        }
      ]
    },
    {
      "cell_type": "code",
      "source": [
        ""
      ],
      "metadata": {
        "id": "5jGKtYoI1KAI"
      },
      "execution_count": null,
      "outputs": []
    }
  ]
}